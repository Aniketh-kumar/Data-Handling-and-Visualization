{
  "nbformat": 4,
  "nbformat_minor": 0,
  "metadata": {
    "colab": {
      "provenance": []
    },
    "kernelspec": {
      "name": "python3",
      "display_name": "Python 3"
    },
    "language_info": {
      "name": "python"
    }
  },
  "cells": [
    {
      "cell_type": "code",
      "execution_count": 1,
      "metadata": {
        "id": "b0_zVVwJVSjo"
      },
      "outputs": [],
      "source": [
        "import requests\n",
        "from bs4 import BeautifulSoup"
      ]
    },
    {
      "cell_type": "code",
      "source": [
        "url = 'https://en.wikipedia.org/wiki/List_of_busiest_railway_stations_in_North_America'\n",
        "response = requests.get(url)"
      ],
      "metadata": {
        "id": "RcMGImAYVYVu"
      },
      "execution_count": 2,
      "outputs": []
    },
    {
      "cell_type": "code",
      "source": [
        "soup = BeautifulSoup(response.text, 'html.parser')"
      ],
      "metadata": {
        "id": "8nB9XCu-VgVc"
      },
      "execution_count": 3,
      "outputs": []
    },
    {
      "cell_type": "code",
      "source": [
        "table = soup.find('table', class_='wikitable')"
      ],
      "metadata": {
        "id": "_88VG0bgVm1d"
      },
      "execution_count": 4,
      "outputs": []
    },
    {
      "cell_type": "code",
      "source": [
        "stations_names = []\n",
        "passenger_counts = []\n",
        "\n",
        "for row in table.find_all('tr')[1:]:\n",
        "    stations_name = row.find_all('td')[1].text.strip()\n",
        "    stations_names.append(stations_name)\n",
        "\n",
        "    passenger_count = row.find_all('td')[3].text.strip()\n",
        "    passenger_counts.append(passenger_count)\n",
        "\n",
        "print(\"Top 10 Busiest stations in the North America by Passenger Traffic:\")\n",
        "for i in range(10):\n",
        "    print(f\"{i+1}. {stations_names[i]} - {passenger_counts[i]}\")\n"
      ],
      "metadata": {
        "colab": {
          "base_uri": "https://localhost:8080/"
        },
        "id": "Z5SivIxAVptt",
        "outputId": "df9f29b9-79d6-4c2d-8387-9606598b7665"
      },
      "execution_count": 5,
      "outputs": [
        {
          "output_type": "stream",
          "name": "stdout",
          "text": [
            "Top 10 Busiest stations in the North America by Passenger Traffic:\n",
            "1. New York Penn Station - New York City\n",
            "2. Toronto Union Station - Toronto\n",
            "3. Grand Central Terminal - New York City\n",
            "4. Jamaica Station - New York City\n",
            "5. Chicago Union Station - Chicago\n",
            "6. Ogilvie Transportation Center - Chicago\n",
            "7. South Station - Boston\n",
            "8. Newark Penn Station - Newark\n",
            "9. Hoboken Terminal - Hoboken\n",
            "10. Washington Union Station - Washington, D.C.\n"
          ]
        }
      ]
    }
  ]
}